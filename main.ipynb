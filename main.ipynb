{
  "nbformat": 4,
  "nbformat_minor": 0,
  "metadata": {
    "colab": {
      "provenance": []
    },
    "kernelspec": {
      "name": "python3",
      "display_name": "Python 3"
    },
    "language_info": {
      "name": "python"
    }
  },
  "cells": [
    {
      "cell_type": "code",
      "source": [
        "import os\n",
        "import numpy as np\n",
        "from numpy import zeros\n",
        "from numpy import ones\n",
        "from numpy.random import randint\n",
        "import tensorflow as tf\n",
        "from tensorflow.image import psnr\n",
        "from keras.optimizers import Adam\n",
        "from keras.initializers import RandomNormal\n",
        "from keras.models import Model\n",
        "from keras.layers import Input\n",
        "from keras.layers import Conv2D\n",
        "from keras.layers import Conv2DTranspose\n",
        "from keras.layers import LeakyReLU\n",
        "from keras.layers import Activation\n",
        "from keras.layers import Concatenate\n",
        "from keras.layers import Dropout\n",
        "from keras.layers import BatchNormalization\n",
        "from matplotlib import pyplot as plt\n",
        "from tensorflow.keras.utils import plot_model\n",
        "from tensorflow.keras.models import load_model\n",
        "from tensorflow.keras.preprocessing.image import load_img, img_to_array, array_to_img\n",
        "\n",
        "from PIL import Image\n",
        "from tensorflow.keras.layers import Reshape\n",
        "from tensorflow.keras import layers"
      ],
      "metadata": {
        "id": "6ei43R0jNUAg"
      },
      "execution_count": null,
      "outputs": []
    },
    {
      "cell_type": "code",
      "source": [
        "def mae_loss(y_true, y_pred):\n",
        "\n",
        "  mae = tf.reduce_mean(tf.abs(y_true - y_pred))\n",
        "  return mae"
      ],
      "metadata": {
        "id": "2JC2r05vNsXr"
      },
      "execution_count": null,
      "outputs": []
    },
    {
      "cell_type": "code",
      "source": [
        "def psnr_metric(y_true, y_pred):\n",
        "\n",
        "    y_true = (y_true + 1)/2 * 255\n",
        "    y_pred = (y_pred + 1)/2 * 255\n",
        "\n",
        "    return tf.image.psnr(y_true, y_pred, max_val=255)"
      ],
      "metadata": {
        "id": "fCWDVYTg2BPp"
      },
      "execution_count": null,
      "outputs": []
    },
    {
      "cell_type": "code",
      "source": [
        "def load_images_from_folder(folder):\n",
        "    images_list=[]\n",
        "    filenames=[]\n",
        "    for filename in os.listdir(folder)[:10]:\n",
        "      img = load_img(os.path.join(folder, filename),target_size=(256,256))\n",
        "      if img is not None:\n",
        "          img = (np.array(img) - 127.5) / 127.5\n",
        "          images_list.append(img)\n",
        "          filenames.append(filename)\n",
        "    return images_list, filenames"
      ],
      "metadata": {
        "id": "CG_ArufK2xUm"
      },
      "execution_count": null,
      "outputs": []
    },
    {
      "cell_type": "code",
      "source": [
        "def save_images_to_folder(folder, images, filenames):\n",
        "    os.makedirs(folder, exist_ok=True)\n",
        "    for img, filename in zip(images, filenames):\n",
        "        img = (img + 1)/2 * 255\n",
        "        img = Image.fromarray((img).astype('uint8'))\n",
        "        img = img.resize((600, 400), Image.BILINEAR)\n",
        "        img.save(os.path.join(folder, filename))"
      ],
      "metadata": {
        "id": "Sck-32N93LrT"
      },
      "execution_count": null,
      "outputs": []
    },
    {
      "cell_type": "markdown",
      "source": [
        "**Call this function and pass the path of the base directory and model path.**"
      ],
      "metadata": {
        "id": "0qR0XMxk2Jax"
      }
    },
    {
      "cell_type": "code",
      "source": [
        "base_path='./test/'\n"
      ],
      "metadata": {
        "id": "U4Cnp-Gy_2Dn"
      },
      "execution_count": null,
      "outputs": []
    },
    {
      "cell_type": "code",
      "source": [
        "def test_model(base_path,model_path):\n",
        "\n",
        "  test_path=os.path.join(base_path,'low')\n",
        "  predicted_path=os.path.join(base_path,'predicted')\n",
        "\n",
        "  # Load the trained model\n",
        "\n",
        "  model = load_model(model_path)\n",
        "\n",
        "  #Loading the test Images\n",
        "  test_images, filenames = load_images_from_folder(test_path)\n",
        "\n",
        "  # Predicting the test images with the model\n",
        "  predicted_images = [model.predict(np.expand_dims(img, axis=0))[0] for img in test_images]\n",
        "\n",
        "  #Saving the Predicted Images\n",
        "  save_images_to_folder(predicted_path, predicted_images, filenames)\n",
        "\n",
        "  print(f\"Saved the Predicted Image to path {predicted_path}\")"
      ],
      "metadata": {
        "id": "Fz444yGF2Hqi"
      },
      "execution_count": null,
      "outputs": []
    },
    {
      "cell_type": "code",
      "source": [],
      "metadata": {
        "id": "i1C0ApD5SRjo"
      },
      "execution_count": null,
      "outputs": []
    }
  ]
}